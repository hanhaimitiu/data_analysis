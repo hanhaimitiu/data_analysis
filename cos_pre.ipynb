# -*- coding: utf-8 -*-
"""
Created on Sun Mar  8 12:14:46 2020

@author: natur
"""

cos_pre = pd.read_csv('cos_pre.csv')  
matr1 = cos_pre['matr'].values